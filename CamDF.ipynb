{
 "cells": [
  {
   "cell_type": "code",
   "execution_count": 10,
   "id": "2537b912",
   "metadata": {},
   "outputs": [],
   "source": [
    "import cv2\n",
    "from deepface import DeepFace\n",
    "import matplotlib.pyplot as plt\n",
    "import time\n",
    "import numpy as np\n",
    "import pandas as pd\n"
   ]
  },
  {
   "cell_type": "code",
   "execution_count": 11,
   "id": "fcb48c45",
   "metadata": {},
   "outputs": [],
   "source": [
    "faceCascade = cv2.CascadeClassifier(cv2.data.haarcascades + 'haarcascade_frontalface_default.xml')"
   ]
  },
  {
   "cell_type": "code",
   "execution_count": 12,
   "id": "d2280ecb",
   "metadata": {},
   "outputs": [],
   "source": [
    "cap = cv2.VideoCapture(1)\n",
    "if not cap.isOpened():\n",
    "    cap = cv2.VideoCapture(0)\n",
    "if not cap.isOpened():\n",
    "    raise IOError('No se puede abrir la cámara')\n",
    "t0 = 0 #Tiempo de inicio del clock\n",
    "tf = 0 #Tiempo final del clock\n",
    "Ts = 0.5 #Tiempo de muestreo\n",
    "datat = []\n",
    "dataE = []"
   ]
  },
  {
   "cell_type": "code",
   "execution_count": 13,
   "id": "44371b29",
   "metadata": {},
   "outputs": [],
   "source": [
    "t0 = time.time()\n",
    "while True:\n",
    "    time.sleep(0.5)\n",
    "    try:\n",
    "        ret,frame = cap.read() #Lee una imagen del video\n",
    "        result = DeepFace.analyze(frame,actions=['emotion'])\n",
    "\n",
    "        ##############################################\n",
    "        #Hace el rectangulo alrededor de la cara\n",
    "        gray  = cv2.cvtColor(frame,cv2.COLOR_BGR2GRAY)\n",
    "        faces = faceCascade.detectMultiScale(gray,1.1,4)\n",
    "\n",
    "        for(x,y,w,h) in faces:\n",
    "            cv2.rectangle(frame,(x,y),(x+w,y+h), (0,255,0),2)\n",
    "\n",
    "        ##############################################\n",
    "        ##############################################\n",
    "\n",
    "        font = cv2.FONT_HERSHEY_COMPLEX\n",
    "        cv2.putText(frame, \n",
    "                    result['dominant_emotion'],\n",
    "                   (150,150), font, 3, (0,0,255), 2, cv2.LINE_4);\n",
    "        cv2.imshow('Demo video', frame)\n",
    "        datat.append([round( time.time()-t0, 2), result['dominant_emotion'] ] )\n",
    "        #dataE.append(result['dominant_emotion'])\n",
    "        \n",
    "\n",
    "        if cv2.waitKey(2) & 0xFF == ord('q'):\n",
    "            break\n",
    "    except (ValueError) as err:\n",
    "        #print(err)\n",
    "        pass\n",
    "        \n",
    "cap.release()\n",
    "cv2.destroyAllWindows()\n",
    "    \n",
    "    \n",
    "    \n",
    "    "
   ]
  },
  {
   "cell_type": "code",
   "execution_count": 14,
   "id": "b2c8ce58",
   "metadata": {},
   "outputs": [
    {
     "name": "stdout",
     "output_type": "stream",
     "text": [
      "24\n",
      "[[0.96, 'neutral'], [1.63, 'neutral'], [2.29, 'neutral'], [2.95, 'neutral'], [3.65, 'happy'], [4.28, 'happy'], [4.95, 'sad'], [5.62, 'surprise'], [6.29, 'surprise'], [6.97, 'neutral'], [7.66, 'surprise'], [8.34, 'surprise'], [9.02, 'neutral'], [9.68, 'angry'], [10.35, 'angry'], [11.0, 'happy'], [11.66, 'angry'], [12.35, 'angry'], [13.02, 'angry'], [13.68, 'surprise'], [14.33, 'surprise'], [15.0, 'happy'], [15.65, 'happy'], [16.31, 'neutral']]\n"
     ]
    }
   ],
   "source": [
    "print(len(datat))\n",
    "print(datat)"
   ]
  },
  {
   "cell_type": "code",
   "execution_count": 6,
   "id": "70ee678d",
   "metadata": {},
   "outputs": [
    {
     "name": "stdout",
     "output_type": "stream",
     "text": [
      "39\n",
      "['neutral', 'neutral', 'neutral', 'neutral', 'neutral', 'neutral', 'neutral', 'fear', 'sad', 'neutral', 'neutral', 'happy', 'neutral', 'neutral', 'neutral', 'neutral', 'neutral', 'neutral', 'neutral', 'neutral', 'surprise', 'surprise', 'neutral', 'neutral', 'sad', 'angry', 'surprise', 'fear', 'fear', 'neutral', 'neutral', 'surprise', 'fear', 'surprise', 'neutral', 'neutral', 'neutral', 'neutral', 'neutral']\n"
     ]
    }
   ],
   "source": [
    "print(len(dataE))\n",
    "print(dataE)"
   ]
  },
  {
   "cell_type": "code",
   "execution_count": 7,
   "id": "0b21dd1c",
   "metadata": {},
   "outputs": [],
   "source": [
    "npt = np.array(datat)\n",
    "npE = np.array(dataE)"
   ]
  },
  {
   "cell_type": "code",
   "execution_count": 16,
   "id": "19ace628",
   "metadata": {},
   "outputs": [
    {
     "ename": "TypeError",
     "evalue": "Mismatch between array dtype ('<U32') and format specifier ('%.18e,%.18e')",
     "output_type": "error",
     "traceback": [
      "\u001b[1;31m---------------------------------------------------------------------------\u001b[0m",
      "\u001b[1;31mTypeError\u001b[0m                                 Traceback (most recent call last)",
      "\u001b[1;32mc:\\users\\alejandro\\appdata\\local\\programs\\python\\python39\\lib\\site-packages\\numpy\\lib\\npyio.py\u001b[0m in \u001b[0;36msavetxt\u001b[1;34m(fname, X, fmt, delimiter, newline, header, footer, comments, encoding)\u001b[0m\n\u001b[0;32m   1449\u001b[0m                 \u001b[1;32mtry\u001b[0m\u001b[1;33m:\u001b[0m\u001b[1;33m\u001b[0m\u001b[1;33m\u001b[0m\u001b[0m\n\u001b[1;32m-> 1450\u001b[1;33m                     \u001b[0mv\u001b[0m \u001b[1;33m=\u001b[0m \u001b[0mformat\u001b[0m \u001b[1;33m%\u001b[0m \u001b[0mtuple\u001b[0m\u001b[1;33m(\u001b[0m\u001b[0mrow\u001b[0m\u001b[1;33m)\u001b[0m \u001b[1;33m+\u001b[0m \u001b[0mnewline\u001b[0m\u001b[1;33m\u001b[0m\u001b[1;33m\u001b[0m\u001b[0m\n\u001b[0m\u001b[0;32m   1451\u001b[0m                 \u001b[1;32mexcept\u001b[0m \u001b[0mTypeError\u001b[0m \u001b[1;32mas\u001b[0m \u001b[0me\u001b[0m\u001b[1;33m:\u001b[0m\u001b[1;33m\u001b[0m\u001b[1;33m\u001b[0m\u001b[0m\n",
      "\u001b[1;31mTypeError\u001b[0m: must be real number, not numpy.str_",
      "\nThe above exception was the direct cause of the following exception:\n",
      "\u001b[1;31mTypeError\u001b[0m                                 Traceback (most recent call last)",
      "\u001b[1;32mC:\\Users\\ALEJAN~1\\AppData\\Local\\Temp/ipykernel_14008/662258744.py\u001b[0m in \u001b[0;36m<module>\u001b[1;34m\u001b[0m\n\u001b[1;32m----> 1\u001b[1;33m \u001b[0mnp\u001b[0m\u001b[1;33m.\u001b[0m\u001b[0msavetxt\u001b[0m\u001b[1;33m(\u001b[0m\u001b[1;34m'Data.csv'\u001b[0m\u001b[1;33m,\u001b[0m \u001b[0mdatat\u001b[0m\u001b[1;33m,\u001b[0m \u001b[0mdelimiter\u001b[0m\u001b[1;33m=\u001b[0m\u001b[1;34m','\u001b[0m\u001b[1;33m)\u001b[0m\u001b[1;33m\u001b[0m\u001b[1;33m\u001b[0m\u001b[0m\n\u001b[0m",
      "\u001b[1;32mc:\\users\\alejandro\\appdata\\local\\programs\\python\\python39\\lib\\site-packages\\numpy\\core\\overrides.py\u001b[0m in \u001b[0;36msavetxt\u001b[1;34m(*args, **kwargs)\u001b[0m\n",
      "\u001b[1;32mc:\\users\\alejandro\\appdata\\local\\programs\\python\\python39\\lib\\site-packages\\numpy\\lib\\npyio.py\u001b[0m in \u001b[0;36msavetxt\u001b[1;34m(fname, X, fmt, delimiter, newline, header, footer, comments, encoding)\u001b[0m\n\u001b[0;32m   1450\u001b[0m                     \u001b[0mv\u001b[0m \u001b[1;33m=\u001b[0m \u001b[0mformat\u001b[0m \u001b[1;33m%\u001b[0m \u001b[0mtuple\u001b[0m\u001b[1;33m(\u001b[0m\u001b[0mrow\u001b[0m\u001b[1;33m)\u001b[0m \u001b[1;33m+\u001b[0m \u001b[0mnewline\u001b[0m\u001b[1;33m\u001b[0m\u001b[1;33m\u001b[0m\u001b[0m\n\u001b[0;32m   1451\u001b[0m                 \u001b[1;32mexcept\u001b[0m \u001b[0mTypeError\u001b[0m \u001b[1;32mas\u001b[0m \u001b[0me\u001b[0m\u001b[1;33m:\u001b[0m\u001b[1;33m\u001b[0m\u001b[1;33m\u001b[0m\u001b[0m\n\u001b[1;32m-> 1452\u001b[1;33m                     raise TypeError(\"Mismatch between array dtype ('%s') and \"\n\u001b[0m\u001b[0;32m   1453\u001b[0m                                     \u001b[1;34m\"format specifier ('%s')\"\u001b[0m\u001b[1;33m\u001b[0m\u001b[1;33m\u001b[0m\u001b[0m\n\u001b[0;32m   1454\u001b[0m                                     % (str(X.dtype), format)) from e\n",
      "\u001b[1;31mTypeError\u001b[0m: Mismatch between array dtype ('<U32') and format specifier ('%.18e,%.18e')"
     ]
    }
   ],
   "source": [
    "np.savetxt('Data.csv', datat, delimiter=',')"
   ]
  },
  {
   "cell_type": "code",
   "execution_count": 38,
   "id": "0650b317",
   "metadata": {},
   "outputs": [
    {
     "data": {
      "text/plain": [
       "115.66"
      ]
     },
     "execution_count": 38,
     "metadata": {},
     "output_type": "execute_result"
    }
   ],
   "source": [
    "round(115.65554891,2)"
   ]
  },
  {
   "cell_type": "code",
   "execution_count": null,
   "id": "9b0bcb6d",
   "metadata": {},
   "outputs": [],
   "source": []
  }
 ],
 "metadata": {
  "kernelspec": {
   "display_name": "Python 3 (ipykernel)",
   "language": "python",
   "name": "python3"
  },
  "language_info": {
   "codemirror_mode": {
    "name": "ipython",
    "version": 3
   },
   "file_extension": ".py",
   "mimetype": "text/x-python",
   "name": "python",
   "nbconvert_exporter": "python",
   "pygments_lexer": "ipython3",
   "version": "3.9.2"
  }
 },
 "nbformat": 4,
 "nbformat_minor": 5
}
