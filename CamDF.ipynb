{
 "cells": [
  {
   "cell_type": "code",
   "execution_count": 27,
   "id": "2537b912",
   "metadata": {},
   "outputs": [],
   "source": [
    "import cv2\n",
    "from deepface import DeepFace\n",
    "import matplotlib.pyplot as plt\n",
    "import time\n",
    "import numpy as np\n",
    "\n"
   ]
  },
  {
   "cell_type": "code",
   "execution_count": 28,
   "id": "fcb48c45",
   "metadata": {},
   "outputs": [],
   "source": [
    "faceCascade = cv2.CascadeClassifier(cv2.data.haarcascades + 'haarcascade_frontalface_default.xml')"
   ]
  },
  {
   "cell_type": "code",
   "execution_count": 34,
   "id": "d2280ecb",
   "metadata": {},
   "outputs": [],
   "source": [
    "cap = cv2.VideoCapture(1)\n",
    "if not cap.isOpened():\n",
    "    cap = cv2.VideoCapture(0)\n",
    "if not cap.isOpened():\n",
    "    raise IOError('No se puede abrir la cámara')\n",
    "\n",
    "Ts = 0.5 #Tiempo de muestreo\n",
    "datat = ['Time (s)']\n",
    "dataE = ['Emotion']"
   ]
  },
  {
   "cell_type": "code",
   "execution_count": 35,
   "id": "44371b29",
   "metadata": {},
   "outputs": [],
   "source": [
    "t0 = time.time()\n",
    "while True:\n",
    "    time.sleep(Ts)\n",
    "    try:\n",
    "        ret,frame = cap.read() #Lee una imagen del video\n",
    "        result = DeepFace.analyze(frame,actions=['emotion'])\n",
    "\n",
    "        ##############################################\n",
    "        #Hace el rectangulo alrededor de la cara\n",
    "        gray  = cv2.cvtColor(frame,cv2.COLOR_BGR2GRAY)\n",
    "        faces = faceCascade.detectMultiScale(gray,1.1,4)\n",
    "\n",
    "        for(x,y,w,h) in faces:\n",
    "            cv2.rectangle(frame,(x,y),(x+w,y+h), (0,255,0),2)\n",
    "\n",
    "        ##############################################\n",
    "        ##############################################\n",
    "\n",
    "        font = cv2.FONT_HERSHEY_COMPLEX\n",
    "        cv2.putText(frame, \n",
    "                    result['dominant_emotion'],\n",
    "                   (150,150), font, 3, (0,0,255), 2, cv2.LINE_4);\n",
    "        cv2.imshow('Demo video', frame)\n",
    "        datat.append(round( time.time()-t0, 2))\n",
    "        dataE.append(result['dominant_emotion'])\n",
    "        \n",
    "\n",
    "        if cv2.waitKey(2) & 0xFF == ord('q'):\n",
    "            break\n",
    "    except (ValueError) as err:\n",
    "        #print(err)\n",
    "        pass\n",
    "        \n",
    "cap.release()\n",
    "cv2.destroyAllWindows()\n",
    "    \n",
    "    \n",
    "    \n",
    "    "
   ]
  },
  {
   "cell_type": "code",
   "execution_count": 41,
   "id": "b2c8ce58",
   "metadata": {},
   "outputs": [
    {
     "name": "stdout",
     "output_type": "stream",
     "text": [
      "38\n",
      "['Time (s)', 1.0, 1.77, 2.44, 3.12, 3.79, 4.5, 5.2, 5.88, 6.55, 7.19, 7.83, 8.49, 9.19, 9.94, 10.67, 11.33, 12.07, 12.72, 13.38, 14.13, 14.82, 15.52, 16.17, 16.85, 17.52, 18.24, 20.67, 21.35, 21.99, 22.67, 23.36, 24.07, 24.73, 25.41, 26.07, 26.75, 27.44]\n"
     ]
    }
   ],
   "source": [
    "print(len(datat))\n",
    "print(datat)\n",
    "nt=np.array(datat)"
   ]
  },
  {
   "cell_type": "code",
   "execution_count": 42,
   "id": "70ee678d",
   "metadata": {
    "scrolled": true
   },
   "outputs": [
    {
     "name": "stdout",
     "output_type": "stream",
     "text": [
      "38\n",
      "['Emotion', 'neutral', 'neutral', 'neutral', 'fear', 'fear', 'fear', 'surprise', 'surprise', 'sad', 'angry', 'angry', 'fear', 'angry', 'angry', 'angry', 'fear', 'fear', 'fear', 'fear', 'fear', 'angry', 'angry', 'happy', 'angry', 'neutral', 'neutral', 'neutral', 'neutral', 'neutral', 'neutral', 'neutral', 'neutral', 'surprise', 'surprise', 'neutral', 'happy', 'happy']\n"
     ]
    }
   ],
   "source": [
    "print(len(dataE))\n",
    "print(dataE)\n",
    "nE=np.array(dataE)"
   ]
  },
  {
   "cell_type": "code",
   "execution_count": 47,
   "id": "3610eab4",
   "metadata": {},
   "outputs": [],
   "source": [
    "np.savetxt('Data.csv', [nt,nE], delimiter=';', fmt='%s')"
   ]
  },
  {
   "cell_type": "code",
   "execution_count": null,
   "id": "682ac91e",
   "metadata": {},
   "outputs": [],
   "source": []
  }
 ],
 "metadata": {
  "kernelspec": {
   "display_name": "Python 3 (ipykernel)",
   "language": "python",
   "name": "python3"
  },
  "language_info": {
   "codemirror_mode": {
    "name": "ipython",
    "version": 3
   },
   "file_extension": ".py",
   "mimetype": "text/x-python",
   "name": "python",
   "nbconvert_exporter": "python",
   "pygments_lexer": "ipython3",
   "version": "3.9.2"
  }
 },
 "nbformat": 4,
 "nbformat_minor": 5
}
