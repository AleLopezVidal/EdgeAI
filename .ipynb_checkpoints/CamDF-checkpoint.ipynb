{
 "cells": [
  {
   "cell_type": "code",
   "execution_count": 1,
   "id": "2537b912",
   "metadata": {},
   "outputs": [],
   "source": [
    "import cv2\n",
    "from deepface import DeepFace\n",
    "import matplotlib.pyplot as plt\n",
    "import time\n",
    "import numpy as np\n",
    "import pandas as pd\n"
   ]
  },
  {
   "cell_type": "code",
   "execution_count": 2,
   "id": "fcb48c45",
   "metadata": {},
   "outputs": [],
   "source": [
    "faceCascade = cv2.CascadeClassifier(cv2.data.haarcascades + 'haarcascade_frontalface_default.xml')"
   ]
  },
  {
   "cell_type": "code",
   "execution_count": 3,
   "id": "d2280ecb",
   "metadata": {},
   "outputs": [],
   "source": [
    "cap = cv2.VideoCapture(1)\n",
    "if not cap.isOpened():\n",
    "    cap = cv2.VideoCapture(0)\n",
    "if not cap.isOpened():\n",
    "    raise IOError('No se puede abrir la cámara')\n",
    "t0 = 0 #Tiempo de inicio del clock\n",
    "tf = 0 #Tiempo final del clock\n",
    "Ts = 0.5 #Tiempo de muestreo\n",
    "datat = []\n",
    "dataE = []"
   ]
  },
  {
   "cell_type": "code",
   "execution_count": 4,
   "id": "44371b29",
   "metadata": {},
   "outputs": [],
   "source": [
    "t0 = time.time()\n",
    "while True:\n",
    "    time.sleep(0.5)\n",
    "    try:\n",
    "        ret,frame = cap.read() #Lee una imagen del video\n",
    "        result = DeepFace.analyze(frame,actions=['emotion'])\n",
    "\n",
    "        ##############################################\n",
    "        #Hace el rectangulo alrededor de la cara\n",
    "        gray  = cv2.cvtColor(frame,cv2.COLOR_BGR2GRAY)\n",
    "        faces = faceCascade.detectMultiScale(gray,1.1,4)\n",
    "\n",
    "        for(x,y,w,h) in faces:\n",
    "            cv2.rectangle(frame,(x,y),(x+w,y+h), (0,255,0),2)\n",
    "\n",
    "        ##############################################\n",
    "        ##############################################\n",
    "\n",
    "        font = cv2.FONT_HERSHEY_COMPLEX\n",
    "        cv2.putText(frame, \n",
    "                    result['dominant_emotion'],\n",
    "                   (150,150), font, 3, (0,0,255), 2, cv2.LINE_4);\n",
    "        cv2.imshow('Demo video', frame)\n",
    "        datat.append(round( time.time()-t0, 2) )\n",
    "        dataE.append(result['dominant_emotion'])\n",
    "        \n",
    "\n",
    "        if cv2.waitKey(2) & 0xFF == ord('q'):\n",
    "            break\n",
    "    except (ValueError) as err:\n",
    "        #print(err)\n",
    "        pass\n",
    "        \n",
    "cap.release()\n",
    "cv2.destroyAllWindows()\n",
    "    \n",
    "    \n",
    "    \n",
    "    "
   ]
  },
  {
   "cell_type": "code",
   "execution_count": 5,
   "id": "b2c8ce58",
   "metadata": {},
   "outputs": [
    {
     "name": "stdout",
     "output_type": "stream",
     "text": [
      "39\n",
      "[1.68, 2.36, 3.04, 3.71, 4.36, 5.05, 5.7, 6.36, 7.03, 7.71, 8.39, 9.04, 9.71, 10.38, 11.02, 11.68, 12.34, 13.01, 13.69, 14.36, 15.01, 15.67, 16.3, 16.96, 17.63, 21.72, 22.46, 23.14, 23.82, 24.51, 25.19, 25.88, 26.59, 27.32, 28.07, 28.74, 29.38, 30.07, 30.71]\n"
     ]
    }
   ],
   "source": [
    "print(len(datat))\n",
    "print(datat)"
   ]
  },
  {
   "cell_type": "code",
   "execution_count": 6,
   "id": "70ee678d",
   "metadata": {},
   "outputs": [
    {
     "name": "stdout",
     "output_type": "stream",
     "text": [
      "39\n",
      "['neutral', 'neutral', 'neutral', 'neutral', 'neutral', 'neutral', 'neutral', 'fear', 'sad', 'neutral', 'neutral', 'happy', 'neutral', 'neutral', 'neutral', 'neutral', 'neutral', 'neutral', 'neutral', 'neutral', 'surprise', 'surprise', 'neutral', 'neutral', 'sad', 'angry', 'surprise', 'fear', 'fear', 'neutral', 'neutral', 'surprise', 'fear', 'surprise', 'neutral', 'neutral', 'neutral', 'neutral', 'neutral']\n"
     ]
    }
   ],
   "source": [
    "print(len(dataE))\n",
    "print(dataE)"
   ]
  },
  {
   "cell_type": "code",
   "execution_count": 15,
   "id": "0b21dd1c",
   "metadata": {},
   "outputs": [],
   "source": [
    "npt = np.array(datat)\n",
    "npE = np.array(dataE)"
   ]
  },
  {
   "cell_type": "code",
   "execution_count": 26,
   "id": "0b0f4de3",
   "metadata": {},
   "outputs": [
    {
     "ename": "TypeError",
     "evalue": "Field elements must be 2- or 3-tuples, got ''neutral''",
     "output_type": "error",
     "traceback": [
      "\u001b[1;31m---------------------------------------------------------------------------\u001b[0m",
      "\u001b[1;31mTypeError\u001b[0m                                 Traceback (most recent call last)",
      "\u001b[1;32mC:\\Users\\ALEJAN~1\\AppData\\Local\\Temp/ipykernel_18828/1132140967.py\u001b[0m in \u001b[0;36m<module>\u001b[1;34m\u001b[0m\n\u001b[1;32m----> 1\u001b[1;33m \u001b[0mnp\u001b[0m\u001b[1;33m.\u001b[0m\u001b[0msavetxt\u001b[0m\u001b[1;33m(\u001b[0m\u001b[1;34m'Data.csv'\u001b[0m\u001b[1;33m,\u001b[0m \u001b[0mnp\u001b[0m\u001b[1;33m.\u001b[0m\u001b[0masarray\u001b[0m\u001b[1;33m(\u001b[0m\u001b[0mdatat\u001b[0m\u001b[1;33m,\u001b[0m\u001b[0mdataE\u001b[0m\u001b[1;33m)\u001b[0m\u001b[1;33m,\u001b[0m \u001b[0mdelimiter\u001b[0m\u001b[1;33m=\u001b[0m\u001b[1;34m','\u001b[0m\u001b[1;33m)\u001b[0m\u001b[1;33m\u001b[0m\u001b[1;33m\u001b[0m\u001b[0m\n\u001b[0m",
      "\u001b[1;31mTypeError\u001b[0m: Field elements must be 2- or 3-tuples, got ''neutral''"
     ]
    }
   ],
   "source": [
    "np.savetxt('Data.csv', np.asarray(datat,dataE), delimiter=',')"
   ]
  },
  {
   "cell_type": "code",
   "execution_count": 38,
   "id": "9f09f08d",
   "metadata": {},
   "outputs": [
    {
     "data": {
      "text/plain": [
       "115.66"
      ]
     },
     "execution_count": 38,
     "metadata": {},
     "output_type": "execute_result"
    }
   ],
   "source": [
    "round(115.65554891,2)"
   ]
  },
  {
   "cell_type": "code",
   "execution_count": null,
   "id": "13398427",
   "metadata": {},
   "outputs": [],
   "source": []
  }
 ],
 "metadata": {
  "kernelspec": {
   "display_name": "Python 3 (ipykernel)",
   "language": "python",
   "name": "python3"
  },
  "language_info": {
   "codemirror_mode": {
    "name": "ipython",
    "version": 3
   },
   "file_extension": ".py",
   "mimetype": "text/x-python",
   "name": "python",
   "nbconvert_exporter": "python",
   "pygments_lexer": "ipython3",
   "version": "3.9.2"
  }
 },
 "nbformat": 4,
 "nbformat_minor": 5
}
